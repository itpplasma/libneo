{
 "cells": [
  {
   "cell_type": "markdown",
   "metadata": {},
   "source": [
    "Tracing of guiding-center orbits is implemented in `src/MC/sub_alpha_lifetime.f90`. Routines\n",
    "\n",
    "* `velo` returns $dz(\\bar{t}_s)/d\\bar{t}_s$ of phase-variables $z$\n",
    "* `orbit_timestep` integrates orbits over finite time via RK4/5 with possible random collisions\n",
    "\n",
    "Normalization is as follows. It differs by a \"better\" one used internally for symplectic integrators \n",
    "in SIMPLE by some factors $\\sqrt{2}$ (see documentation there).\n",
    "\n",
    "We introduce thermal velocity \n",
    "$$\n",
    "v_{0s}=\\sqrt{\\frac{2T}{m}}\n",
    "$$ and normalised gyroradius \n",
    "\n",
    "$$\n",
    "\\rho_{0s}=\\frac{mc}{e B_{\\mathrm{ref}}}v_{0s}.\n",
    "$$\n",
    "\n",
    "and cyclotron frequency\n",
    "\n",
    "$$\n",
    "\\omega_{0s}=\\frac{e B_{\\mathrm{ref}}}{mc}.\n",
    "$$\n",
    "\n",
    "Here the reference temperature $T$ is in units of energy and can also mean the energy of mono-energetic \n",
    "particles (like fast alphas). The reference $B$ field $B_{\\mathrm{ref}}$ is the physical field in Gauss when field routines give numerical value $B=1$. So if field routines return Tesla, one should set it to $10^4$, otherwise to 1.\n",
    "\n",
    "The actual Larmor radius is given by\n",
    "$$\n",
    "\\rho = \\frac{v/v_{0s}}{B/B_{\\mathrm{ref}}} \\rho_{0s} = \\frac{\\bar v_s}{\\bar B_s} \\rho_{0s} \\\\\n",
    "     = \\frac{\\sqrt{H/T}}{B/B_{\\mathrm{ref}}} \\rho_{0s} = \\frac{\\sqrt{\\bar H_s}}{\\bar B_s} \\rho_{0s}\n",
    "$$"
   ]
  },
  {
   "cell_type": "code",
   "execution_count": 9,
   "metadata": {
    "tags": []
   },
   "outputs": [
    {
     "output_type": "stream",
     "name": "stdout",
     "text": "rlarm = 0.91 cm\n"
    }
   ],
   "source": [
    "# Let's try it...\n",
    "import numpy as np\n",
    "\n",
    "# Constants\n",
    "c = 2.9979e10           # speed of light in cm/s\n",
    "qe = 4.8032e-10         # electron charge in franklin ( = 3.336e-10C)\n",
    "e_mass = 9.1094e-28     # electron mass in g\n",
    "p_mass = 1.6726e-24     # proton mass in g\n",
    "ev = 1.6022e-12         # 1 eV in erg ( = 1e-7J)\n",
    "am = 2                  # Atomic mass 2 of deuterium ions\n",
    "Zb = 1                  # Atomic charge 1 of deuterium ions\n",
    "tempi1 = 2e3            # ion temperature in eV\n",
    "v0 = np.sqrt(2.0*tempi1*ev/(am*p_mass))  # Reference (thermal) velocity\n",
    "\n",
    "# Reference Larmor radius of thermal particles\n",
    "m = am*p_mass\n",
    "bmod_ref = 1.0                 # What does bmod=1 mean in Gauss?\n",
    "ro0 = v0*m*c/(Zb*qe*bmod_ref)  # Larmor radius in bmod_ref\n",
    "\n",
    "bmod_test = 1e4\n",
    "print(f'rlarm = {bmod_ref/bmod_test*ro0:.2f} cm')"
   ]
  },
  {
   "cell_type": "markdown",
   "metadata": {},
   "source": [
    "Additional variables are\n",
    "$$\n",
    "\\lambda\t=\\cos\\,\\Theta_{p}=\\frac{v_{\\parallel}}{v}=\\frac{v_{\\parallel}}{\\sqrt{v_{\\parallel}^{\\,2}+v_{\\perp}^{\\,2}}}\n",
    "\t=\\sqrt{\\frac{m}{2}}\\frac{v_{\\parallel}}{\\sqrt{mv_{\\parallel}^{\\,2}/2+\\mu B}}=\\sqrt{\\frac{m}{2}}\\frac{v_{\\parallel}}{\\sqrt{H-e\\Phi}}.\n",
    "$$\n",
    "where the pitch angle $\\Theta_{p}$ measures the angle between particle velocity $\\boldsymbol{v}$ and magnetic field $\\boldsymbol{B}$. Similarly\n",
    "$$\n",
    "\t\\lambda^{2}\t=\\frac{mv_{\\parallel}/2}{H-e\\Phi}=\\frac{H-\\mu B-e\\Phi}{H-e\\Phi}\n",
    "$$\n",
    "so\n",
    "$$\n",
    "H=\\frac{\\mu B}{1-\\lambda^{2}}+e\\Phi.\n",
    "$$\n",
    "\n",
    "In the non-relativistic case we have\n",
    "$$\n",
    "\\bar{v}_{\\parallel s}\t=\\frac{v_{\\parallel}}{v_{0s}}\\,,\\\\\n",
    "\\bar{H}_{s}\t=\\frac{H}{T}\\,,\\\\\n",
    "\\bar{t}_{s}\t=v_{0s}\\,t\\,,\\\\\n",
    "\\bar{\\Phi}_{s}\t=\\frac{e}{T}\\Phi\\,,\\\\\n",
    "\\bar{p}_{s}\t=\\frac{p}{mv_{0s}}=\\frac{v}{v_{0s}}=\\bar{v}_{s}\\\\\n",
    "\\bar{\\mu}_{s}\t=\\frac{\\bar{p}_{s}^{\\,2}(1-\\lambda^{2})}{2B}=\\frac{p^{\\,2}(1-\\lambda^{2})}{2m^{2}v_{0}^{\\,2}B}\n",
    "\t=\\frac{p_{\\perp}^{\\,2}}{4mTB}=\\frac{\\mu}{2T}\\\\\n",
    "    \\omega_{c}=\\frac{eB}{mc}=\\frac{v_{0s}}{\\rho_{0s}}B=\\frac{v_{0}}{\\rho_{0}}B.\n",
    "$$"
   ]
  }
 ],
 "metadata": {
  "language_info": {
   "codemirror_mode": {
    "name": "ipython",
    "version": 3
   },
   "file_extension": ".py",
   "mimetype": "text/x-python",
   "name": "python",
   "nbconvert_exporter": "python",
   "pygments_lexer": "ipython3",
   "version": 3
  },
  "orig_nbformat": 2,
  "kernelspec": {
   "name": "python_defaultSpec_1594018999922",
   "display_name": "Python 3.8.3 64-bit"
  }
 },
 "nbformat": 4,
 "nbformat_minor": 2
}